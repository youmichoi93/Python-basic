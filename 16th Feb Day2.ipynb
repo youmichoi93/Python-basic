{
 "cells": [
  {
   "cell_type": "code",
   "execution_count": 1,
   "metadata": {},
   "outputs": [],
   "source": [
    "t1 = 1,2,3"
   ]
  },
  {
   "cell_type": "code",
   "execution_count": 2,
   "metadata": {},
   "outputs": [
    {
     "data": {
      "text/plain": [
       "tuple"
      ]
     },
     "execution_count": 2,
     "metadata": {},
     "output_type": "execute_result"
    }
   ],
   "source": [
    "type(t1)\n",
    "\n",
    "#튜플은 괄호 생략가능."
   ]
  },
  {
   "cell_type": "code",
   "execution_count": 3,
   "metadata": {},
   "outputs": [],
   "source": [
    "t3 = (1)"
   ]
  },
  {
   "cell_type": "code",
   "execution_count": 4,
   "metadata": {},
   "outputs": [
    {
     "data": {
      "text/plain": [
       "int"
      ]
     },
     "execution_count": 4,
     "metadata": {},
     "output_type": "execute_result"
    }
   ],
   "source": [
    "type(t3)\n",
    "\n",
    "#튜플은 요소 하나일때 쉼표! 해야함. otherwise 정수(int)로 인식됨."
   ]
  },
  {
   "cell_type": "code",
   "execution_count": 5,
   "metadata": {},
   "outputs": [],
   "source": [
    "t4 = (1,)"
   ]
  },
  {
   "cell_type": "code",
   "execution_count": 7,
   "metadata": {},
   "outputs": [
    {
     "data": {
      "text/plain": [
       "tuple"
      ]
     },
     "execution_count": 7,
     "metadata": {},
     "output_type": "execute_result"
    }
   ],
   "source": [
    "type(t4)"
   ]
  },
  {
   "cell_type": "code",
   "execution_count": 8,
   "metadata": {},
   "outputs": [],
   "source": [
    "##########\n",
    "#while 복습\n",
    "########"
   ]
  },
  {
   "cell_type": "code",
   "execution_count": 12,
   "metadata": {},
   "outputs": [
    {
     "name": "stdout",
     "output_type": "stream",
     "text": [
      "1\n",
      "2\n",
      "3\n",
      "4\n",
      "5\n",
      "6\n",
      "7\n",
      "8\n",
      "9\n",
      "10\n"
     ]
    }
   ],
   "source": [
    "a = 0\n",
    "while a <  10 :\n",
    "    a = a + 1\n",
    "    print(a)"
   ]
  },
  {
   "cell_type": "code",
   "execution_count": 13,
   "metadata": {},
   "outputs": [],
   "source": [
    "##########\n",
    "#for\n",
    "########"
   ]
  },
  {
   "cell_type": "code",
   "execution_count": 16,
   "metadata": {},
   "outputs": [
    {
     "ename": "SyntaxError",
     "evalue": "invalid syntax (<ipython-input-16-92d4353ad2f7>, line 2)",
     "output_type": "error",
     "traceback": [
      "\u001b[1;36m  File \u001b[1;32m\"<ipython-input-16-92d4353ad2f7>\"\u001b[1;36m, line \u001b[1;32m2\u001b[0m\n\u001b[1;33m    for i in test_list\u001b[0m\n\u001b[1;37m                      ^\u001b[0m\n\u001b[1;31mSyntaxError\u001b[0m\u001b[1;31m:\u001b[0m invalid syntax\n"
     ]
    }
   ],
   "source": [
    "test_list = [1,2,3]\n",
    "for i in test_list\n",
    "      print(i)"
   ]
  },
  {
   "cell_type": "code",
   "execution_count": 17,
   "metadata": {},
   "outputs": [
    {
     "name": "stdout",
     "output_type": "stream",
     "text": [
      "1번 학생은 합격입니다.\n",
      "2번 학생은 불합격입니다.\n",
      "3번 학생은 합격입니다.\n",
      "4번 학생은 불합격입니다.\n",
      "5번 학생은 합격입니다.\n"
     ]
    }
   ],
   "source": [
    "marks = [90,25,67,45,80]\n",
    "\n",
    "number = 0\n",
    "for mark in marks :\n",
    "    number = number + 1\n",
    "    if mark >=60:\n",
    "        print('%d번 학생은 합격입니다.'%number)\n",
    "    else :\n",
    "        print('%d번 학생은 불합격입니다.' % number)"
   ]
  },
  {
   "cell_type": "code",
   "execution_count": 18,
   "metadata": {},
   "outputs": [
    {
     "name": "stdout",
     "output_type": "stream",
     "text": [
      "1번 학생 축하합니다, 합격입니다.\n",
      "3번 학생 축하합니다, 합격입니다.\n",
      "5번 학생 축하합니다, 합격입니다.\n"
     ]
    }
   ],
   "source": [
    "marks = [90,25,67,45,80]\n",
    "\n",
    "number = 0\n",
    "\n",
    "for mark in marks:\n",
    "    number = number +1\n",
    "    if mark <60:\n",
    "        continue\n",
    "    print('%d번 학생 축하합니다, 합격입니다.'%number)"
   ]
  },
  {
   "cell_type": "code",
   "execution_count": 19,
   "metadata": {},
   "outputs": [],
   "source": [
    "a = range(10)"
   ]
  },
  {
   "cell_type": "code",
   "execution_count": 20,
   "metadata": {},
   "outputs": [
    {
     "data": {
      "text/plain": [
       "range(0, 10)"
      ]
     },
     "execution_count": 20,
     "metadata": {},
     "output_type": "execute_result"
    }
   ],
   "source": [
    "a"
   ]
  },
  {
   "cell_type": "code",
   "execution_count": 24,
   "metadata": {},
   "outputs": [],
   "source": [
    "add = 0\n",
    "for i in range(1,11):\n",
    "    add = add + i"
   ]
  },
  {
   "cell_type": "code",
   "execution_count": 25,
   "metadata": {},
   "outputs": [
    {
     "name": "stdout",
     "output_type": "stream",
     "text": [
      "55\n"
     ]
    }
   ],
   "source": [
    "print(add)"
   ]
  },
  {
   "cell_type": "code",
   "execution_count": 26,
   "metadata": {},
   "outputs": [],
   "source": [
    "a = range(5)"
   ]
  },
  {
   "cell_type": "code",
   "execution_count": 27,
   "metadata": {},
   "outputs": [
    {
     "data": {
      "text/plain": [
       "range(0, 5)"
      ]
     },
     "execution_count": 27,
     "metadata": {},
     "output_type": "execute_result"
    }
   ],
   "source": [
    "a"
   ]
  },
  {
   "cell_type": "code",
   "execution_count": 33,
   "metadata": {},
   "outputs": [
    {
     "name": "stdout",
     "output_type": "stream",
     "text": [
      "1\n",
      "2\n",
      "3\n",
      "4\n",
      "5\n",
      "6\n",
      "7\n",
      "8\n",
      "9\n",
      "10\n"
     ]
    }
   ],
   "source": [
    "for i in range(1,11):\n",
    "    print(i)\n",
    "    \n",
    "    #range 뒤에 숫자 미만임. for랑 while문 같음."
   ]
  },
  {
   "cell_type": "code",
   "execution_count": 54,
   "metadata": {},
   "outputs": [
    {
     "name": "stdout",
     "output_type": "stream",
     "text": [
      "1\n",
      "3\n",
      "5\n",
      "7\n",
      "9\n"
     ]
    }
   ],
   "source": [
    "   # : 안 찍었고, 같다를 =로 해서 오류남. 해결\n",
    "for i in range(1,11):\n",
    "    if i %2 == 1 :\n",
    "        print(i)"
   ]
  },
  {
   "cell_type": "code",
   "execution_count": 58,
   "metadata": {},
   "outputs": [
    {
     "name": "stdout",
     "output_type": "stream",
     "text": [
      "[3]\n",
      "[3, 6]\n",
      "[3, 6, 9]\n",
      "[3, 6, 9, 12]\n"
     ]
    }
   ],
   "source": [
    "a = [1,2,3,4]\n",
    "result = []\n",
    "for num in a:\n",
    "    result.append(num*3)\n",
    "    print(result)"
   ]
  },
  {
   "cell_type": "code",
   "execution_count": 69,
   "metadata": {},
   "outputs": [
    {
     "name": "stdout",
     "output_type": "stream",
     "text": [
      "[3, 6, 9, 12]\n"
     ]
    }
   ],
   "source": [
    "a = [1,2,3,4]\n",
    "result = [num*3 for num in a]\n",
    "print(result)"
   ]
  },
  {
   "cell_type": "code",
   "execution_count": 77,
   "metadata": {},
   "outputs": [
    {
     "ename": "IndentationError",
     "evalue": "expected an indented block (<ipython-input-77-7b9d2aa4a208>, line 5)",
     "output_type": "error",
     "traceback": [
      "\u001b[1;36m  File \u001b[1;32m\"<ipython-input-77-7b9d2aa4a208>\"\u001b[1;36m, line \u001b[1;32m5\u001b[0m\n\u001b[1;33m    sum = sum + i\u001b[0m\n\u001b[1;37m    ^\u001b[0m\n\u001b[1;31mIndentationError\u001b[0m\u001b[1;31m:\u001b[0m expected an indented block\n"
     ]
    }
   ],
   "source": [
    "sum = 0\n",
    "i = 1\n",
    "while i <= 1000:\n",
    "    if i %3 == 0:  #3의 배수 인지 확인\n",
    "    sum = sum + i\n",
    "    i = i +1\n",
    "print(sum)"
   ]
  },
  {
   "cell_type": "code",
   "execution_count": 96,
   "metadata": {},
   "outputs": [
    {
     "name": "stdout",
     "output_type": "stream",
     "text": [
      "*\n",
      "**\n",
      "***\n",
      "****\n",
      "*****\n"
     ]
    }
   ],
   "source": [
    "i = 0\n",
    "while True:\n",
    "    i = i + 1\n",
    "    if i >5:break\n",
    "    print(i * '*')\n",
    "\n",
    "    "
   ]
  },
  {
   "cell_type": "code",
   "execution_count": 105,
   "metadata": {},
   "outputs": [
    {
     "name": "stdout",
     "output_type": "stream",
     "text": [
      "5050\n"
     ]
    }
   ],
   "source": [
    "sum = 0\n",
    "for a in range(1,101) :\n",
    "    sum = sum + a\n",
    "     \n",
    "        \n",
    "print(sum)"
   ]
  },
  {
   "cell_type": "code",
   "execution_count": 106,
   "metadata": {},
   "outputs": [],
   "source": [
    "############\n",
    "#함수\n",
    "#######"
   ]
  },
  {
   "cell_type": "code",
   "execution_count": 107,
   "metadata": {},
   "outputs": [],
   "source": [
    "def add(a,b):\n",
    "    return a+b"
   ]
  },
  {
   "cell_type": "code",
   "execution_count": 109,
   "metadata": {},
   "outputs": [],
   "source": [
    "a = 3\n",
    "b = 4\n",
    "c = add(a,b)"
   ]
  },
  {
   "cell_type": "code",
   "execution_count": 110,
   "metadata": {},
   "outputs": [
    {
     "name": "stdout",
     "output_type": "stream",
     "text": [
      "7\n"
     ]
    }
   ],
   "source": [
    "print(c)"
   ]
  },
  {
   "cell_type": "code",
   "execution_count": 113,
   "metadata": {},
   "outputs": [],
   "source": [
    "d = add(1,3)"
   ]
  },
  {
   "cell_type": "code",
   "execution_count": 114,
   "metadata": {},
   "outputs": [
    {
     "name": "stdout",
     "output_type": "stream",
     "text": [
      "4\n"
     ]
    }
   ],
   "source": [
    "print(d)\n",
    "\n",
    "#일반적인 함수 (결과 값은 오직 return으로만 돌려받을 수 있음)"
   ]
  },
  {
   "cell_type": "code",
   "execution_count": 115,
   "metadata": {},
   "outputs": [],
   "source": [
    "#매개변수(parameter) 함수에 입력으로 전달된 값을 받는 변수\n",
    "#인수(argument) 함수를 호출할 떄 전달하는 입력값\n",
    "#집에서는 아빠 회사에서는 과장, 둘이 같은 것"
   ]
  },
  {
   "cell_type": "code",
   "execution_count": 116,
   "metadata": {},
   "outputs": [],
   "source": [
    "def say():\n",
    "    return 'hi'"
   ]
  },
  {
   "cell_type": "code",
   "execution_count": 117,
   "metadata": {},
   "outputs": [],
   "source": [
    "a = say()"
   ]
  },
  {
   "cell_type": "code",
   "execution_count": 118,
   "metadata": {},
   "outputs": [
    {
     "name": "stdout",
     "output_type": "stream",
     "text": [
      "hi\n"
     ]
    }
   ],
   "source": [
    "print(a)\n",
    "\n",
    "#입력값이 없는 함수"
   ]
  },
  {
   "cell_type": "code",
   "execution_count": 119,
   "metadata": {},
   "outputs": [],
   "source": [
    "def add(a,b):\n",
    "    print('%d,%d의 합은 %d입니다.'%(a,b,a+b))"
   ]
  },
  {
   "cell_type": "code",
   "execution_count": 120,
   "metadata": {},
   "outputs": [
    {
     "name": "stdout",
     "output_type": "stream",
     "text": [
      "3,4의 합은 7입니다.\n"
     ]
    }
   ],
   "source": [
    "add(3,4)\n",
    "#출력값이 없는 함수"
   ]
  },
  {
   "cell_type": "code",
   "execution_count": 121,
   "metadata": {},
   "outputs": [
    {
     "name": "stdout",
     "output_type": "stream",
     "text": [
      "3,4의 합은 7입니다.\n",
      "None\n"
     ]
    }
   ],
   "source": [
    "a = add(3,4)\n",
    "print(a)"
   ]
  },
  {
   "cell_type": "code",
   "execution_count": 122,
   "metadata": {},
   "outputs": [],
   "source": [
    "#이건 함수에서 찍으라고 해서 찍은 것, 결과값은 없음."
   ]
  },
  {
   "cell_type": "code",
   "execution_count": 123,
   "metadata": {},
   "outputs": [],
   "source": [
    "def say():\n",
    "    print('hi')"
   ]
  },
  {
   "cell_type": "code",
   "execution_count": 124,
   "metadata": {},
   "outputs": [
    {
     "name": "stdout",
     "output_type": "stream",
     "text": [
      "hi\n"
     ]
    }
   ],
   "source": [
    "say()\n",
    "#입력값도 결괏값도 없는 함수"
   ]
  },
  {
   "cell_type": "code",
   "execution_count": 126,
   "metadata": {},
   "outputs": [],
   "source": [
    "def add(a,b):\n",
    "    return a+b\n",
    "result = add(a=3,b=7)"
   ]
  },
  {
   "cell_type": "code",
   "execution_count": 127,
   "metadata": {},
   "outputs": [
    {
     "name": "stdout",
     "output_type": "stream",
     "text": [
      "10\n"
     ]
    }
   ],
   "source": [
    "print(result)"
   ]
  },
  {
   "cell_type": "code",
   "execution_count": 128,
   "metadata": {},
   "outputs": [],
   "source": [
    "result = add(b=7,a=3)"
   ]
  },
  {
   "cell_type": "code",
   "execution_count": 129,
   "metadata": {},
   "outputs": [
    {
     "name": "stdout",
     "output_type": "stream",
     "text": [
      "10\n"
     ]
    }
   ],
   "source": [
    "print(result)"
   ]
  },
  {
   "cell_type": "code",
   "execution_count": 130,
   "metadata": {},
   "outputs": [],
   "source": [
    "########많이 쓰임############\n",
    "#입력값이 몇 개가 튈지 모를때, 사과바나나키위주스\n",
    "##############"
   ]
  },
  {
   "cell_type": "code",
   "execution_count": 139,
   "metadata": {},
   "outputs": [],
   "source": [
    "def add_many(*args):\n",
    "    result = 0\n",
    "    for i in args:\n",
    "        result = result + i\n",
    "    return result\n",
    "\n",
    "#(*args)는 변수라 다르게 써도 되지만 여러개일때 저렇게 쓰는데 좋음."
   ]
  },
  {
   "cell_type": "code",
   "execution_count": 140,
   "metadata": {},
   "outputs": [
    {
     "name": "stdout",
     "output_type": "stream",
     "text": [
      "6\n"
     ]
    }
   ],
   "source": [
    "result = add_many(1,2,3)\n",
    "print(result)"
   ]
  },
  {
   "cell_type": "code",
   "execution_count": 141,
   "metadata": {},
   "outputs": [
    {
     "name": "stdout",
     "output_type": "stream",
     "text": [
      "55\n"
     ]
    }
   ],
   "source": [
    "result = add_many(1,2,3,4,5,6,7,8,9,10)\n",
    "print(result)"
   ]
  },
  {
   "cell_type": "code",
   "execution_count": 151,
   "metadata": {},
   "outputs": [],
   "source": [
    "def add_mul(choice,*args):\n",
    "    if choice =='add':\n",
    "        result = 0\n",
    "        for i in args:\n",
    "            result = result +i\n",
    "    elif choice == 'mul':\n",
    "        result = 1\n",
    "        for i in args:\n",
    "            result = result * i\n",
    "    return result"
   ]
  },
  {
   "cell_type": "code",
   "execution_count": 152,
   "metadata": {},
   "outputs": [
    {
     "name": "stdout",
     "output_type": "stream",
     "text": [
      "15\n"
     ]
    }
   ],
   "source": [
    "result = add_mul('add',1,2,3,4,5)\n",
    "print(result)"
   ]
  },
  {
   "cell_type": "code",
   "execution_count": 157,
   "metadata": {},
   "outputs": [
    {
     "name": "stdout",
     "output_type": "stream",
     "text": [
      "120\n"
     ]
    }
   ],
   "source": [
    "result = add_mul('mul',1,2,3,4,5)\n",
    "print(result)"
   ]
  },
  {
   "cell_type": "code",
   "execution_count": 158,
   "metadata": {},
   "outputs": [],
   "source": [
    "def add_and_mul(a,b):\n",
    "    return a+b,a*b\n"
   ]
  },
  {
   "cell_type": "code",
   "execution_count": 159,
   "metadata": {},
   "outputs": [],
   "source": [
    "result = add_and_mul(3,4)"
   ]
  },
  {
   "cell_type": "code",
   "execution_count": 161,
   "metadata": {},
   "outputs": [
    {
     "name": "stdout",
     "output_type": "stream",
     "text": [
      "(7, 12)\n"
     ]
    }
   ],
   "source": [
    "print(result)"
   ]
  },
  {
   "cell_type": "code",
   "execution_count": 163,
   "metadata": {},
   "outputs": [],
   "source": [
    "result1,result2 = add_and_mul(3,4)"
   ]
  },
  {
   "cell_type": "code",
   "execution_count": 165,
   "metadata": {},
   "outputs": [
    {
     "name": "stdout",
     "output_type": "stream",
     "text": [
      "7\n"
     ]
    }
   ],
   "source": [
    "print(result1)"
   ]
  },
  {
   "cell_type": "code",
   "execution_count": 167,
   "metadata": {},
   "outputs": [
    {
     "name": "stdout",
     "output_type": "stream",
     "text": [
      "12\n"
     ]
    }
   ],
   "source": [
    "print(result2)"
   ]
  },
  {
   "cell_type": "code",
   "execution_count": 170,
   "metadata": {},
   "outputs": [],
   "source": [
    "def add_and_mul(a,b):\n",
    "    return a+b\n",
    "    return a*b"
   ]
  },
  {
   "cell_type": "code",
   "execution_count": 171,
   "metadata": {},
   "outputs": [],
   "source": [
    "result = add_and_mul(2,3)"
   ]
  },
  {
   "cell_type": "code",
   "execution_count": 172,
   "metadata": {},
   "outputs": [
    {
     "name": "stdout",
     "output_type": "stream",
     "text": [
      "5\n"
     ]
    }
   ],
   "source": [
    "print(result)\n",
    "#윗 줄에서 더하기로 결과값이 나왔으니 밑에 것 무시"
   ]
  },
  {
   "cell_type": "code",
   "execution_count": 175,
   "metadata": {},
   "outputs": [],
   "source": [
    "def say_myself(name,old,man=True):\n",
    "    print('나의 이름은 %s 입니다.'% name)\n",
    "    print('나이는 %d 입니다.' % old)\n",
    "    if man : \n",
    "        print('남자입니다.')\n",
    "    else:\n",
    "        print('여자입니다.')\n",
    "        "
   ]
  },
  {
   "cell_type": "code",
   "execution_count": 177,
   "metadata": {},
   "outputs": [
    {
     "name": "stdout",
     "output_type": "stream",
     "text": [
      "나의 이름은 최유미 입니다.\n",
      "나이는 28 입니다.\n",
      "여자입니다.\n"
     ]
    }
   ],
   "source": [
    "say_myself('최유미',28,False)"
   ]
  },
  {
   "cell_type": "code",
   "execution_count": null,
   "metadata": {},
   "outputs": [],
   "source": [
    "#초기값 설정은 맨 뒤로 가야함. \n",
    "# 예시, def say_myself(name,man=True,old)안됨"
   ]
  },
  {
   "cell_type": "code",
   "execution_count": 178,
   "metadata": {},
   "outputs": [],
   "source": [
    "a = 1\n",
    "def vartest(a):\n",
    "    a = a + 1\n"
   ]
  },
  {
   "cell_type": "code",
   "execution_count": 179,
   "metadata": {},
   "outputs": [],
   "source": [
    "vartest(a)"
   ]
  },
  {
   "cell_type": "code",
   "execution_count": 180,
   "metadata": {},
   "outputs": [
    {
     "name": "stdout",
     "output_type": "stream",
     "text": [
      "1\n"
     ]
    }
   ],
   "source": [
    "print(a)"
   ]
  },
  {
   "cell_type": "code",
   "execution_count": 181,
   "metadata": {},
   "outputs": [],
   "source": [
    "#함수만의 변수 = 지역변수,특정 범위안에서만 통용\n",
    "#전역 변수 : 전체에서 통용"
   ]
  },
  {
   "cell_type": "code",
   "execution_count": 182,
   "metadata": {},
   "outputs": [],
   "source": [
    "def vartest(a):\n",
    "    a = a + 1"
   ]
  },
  {
   "cell_type": "code",
   "execution_count": 183,
   "metadata": {},
   "outputs": [],
   "source": [
    "vartest(3)"
   ]
  },
  {
   "cell_type": "code",
   "execution_count": 184,
   "metadata": {},
   "outputs": [
    {
     "name": "stdout",
     "output_type": "stream",
     "text": [
      "1\n"
     ]
    }
   ],
   "source": [
    "print(a)"
   ]
  },
  {
   "cell_type": "code",
   "execution_count": 186,
   "metadata": {},
   "outputs": [],
   "source": [
    "#함수 밖에서 통하지 않음, 이하는 해결방법"
   ]
  },
  {
   "cell_type": "code",
   "execution_count": 190,
   "metadata": {},
   "outputs": [
    {
     "name": "stdout",
     "output_type": "stream",
     "text": [
      "2\n"
     ]
    }
   ],
   "source": [
    "a = 1\n",
    "def vartest(a):\n",
    "    a = a+1\n",
    "    return a\n",
    "\n",
    "a = vartest(a)\n",
    "print(a)\n",
    "\n",
    "\n",
    "#return 이 a 를 가지고 밖으로 나왔음 따라서 결과 정상적"
   ]
  },
  {
   "cell_type": "code",
   "execution_count": 191,
   "metadata": {},
   "outputs": [],
   "source": [
    "#lambda  람다, 함수를 간결하게 줄여줄때 사용,def사용 할 수 없을때"
   ]
  },
  {
   "cell_type": "code",
   "execution_count": 195,
   "metadata": {},
   "outputs": [
    {
     "name": "stdout",
     "output_type": "stream",
     "text": [
      "7\n"
     ]
    }
   ],
   "source": [
    "add = lambda a,b:a+b\n",
    "result = add(3,4)\n",
    "print(result)"
   ]
  },
  {
   "cell_type": "code",
   "execution_count": 196,
   "metadata": {},
   "outputs": [
    {
     "name": "stdout",
     "output_type": "stream",
     "text": [
      "7\n"
     ]
    }
   ],
   "source": [
    "def add(a,b):\n",
    "    return a+b\n",
    "result = add(3,4)\n",
    "print(result)\n",
    "\n",
    "#위와 다르게 두 줄임."
   ]
  },
  {
   "cell_type": "code",
   "execution_count": 197,
   "metadata": {},
   "outputs": [],
   "source": [
    "#############사용자 입력과 출력##"
   ]
  },
  {
   "cell_type": "code",
   "execution_count": 198,
   "metadata": {},
   "outputs": [
    {
     "name": "stdout",
     "output_type": "stream",
     "text": [
      "Life is too short, you need python\n"
     ]
    }
   ],
   "source": [
    "a = input()\n",
    "\n",
    "#밑에 칸 나와서 직접 값을 받아서 출력.단, 모든 것을 문자열 취급함."
   ]
  },
  {
   "cell_type": "code",
   "execution_count": 199,
   "metadata": {},
   "outputs": [
    {
     "data": {
      "text/plain": [
       "'Life is too short, you need python'"
      ]
     },
     "execution_count": 199,
     "metadata": {},
     "output_type": "execute_result"
    }
   ],
   "source": [
    "a"
   ]
  },
  {
   "cell_type": "code",
   "execution_count": 201,
   "metadata": {},
   "outputs": [
    {
     "name": "stdout",
     "output_type": "stream",
     "text": [
      "123\n"
     ]
    }
   ],
   "source": [
    "a = input()"
   ]
  },
  {
   "cell_type": "code",
   "execution_count": 203,
   "metadata": {},
   "outputs": [
    {
     "data": {
      "text/plain": [
       "'123'"
      ]
     },
     "execution_count": 203,
     "metadata": {},
     "output_type": "execute_result"
    }
   ],
   "source": [
    "a    #숫자도 문자열 취급"
   ]
  },
  {
   "cell_type": "code",
   "execution_count": 206,
   "metadata": {},
   "outputs": [
    {
     "name": "stdout",
     "output_type": "stream",
     "text": [
      "숫자를 입력하세요:123\n"
     ]
    }
   ],
   "source": [
    "number = int(input('숫자를 입력하세요:'))"
   ]
  },
  {
   "cell_type": "code",
   "execution_count": 207,
   "metadata": {},
   "outputs": [
    {
     "data": {
      "text/plain": [
       "123"
      ]
     },
     "execution_count": 207,
     "metadata": {},
     "output_type": "execute_result"
    }
   ],
   "source": [
    "number\n",
    "#문자열로만 인식되어 숫자할때는 int괄호 안에 넣기"
   ]
  },
  {
   "cell_type": "code",
   "execution_count": 208,
   "metadata": {},
   "outputs": [
    {
     "name": "stdout",
     "output_type": "stream",
     "text": [
      "123\n"
     ]
    }
   ],
   "source": [
    "a = 123\n",
    "print(a)"
   ]
  },
  {
   "cell_type": "code",
   "execution_count": 209,
   "metadata": {},
   "outputs": [
    {
     "name": "stdout",
     "output_type": "stream",
     "text": [
      "python\n"
     ]
    }
   ],
   "source": [
    "a = 'python'\n",
    "print(a)"
   ]
  },
  {
   "cell_type": "code",
   "execution_count": 211,
   "metadata": {},
   "outputs": [
    {
     "name": "stdout",
     "output_type": "stream",
     "text": [
      "[1, 2, 3]\n"
     ]
    }
   ],
   "source": [
    "a = [1,2,3]\n",
    "print(a)"
   ]
  },
  {
   "cell_type": "code",
   "execution_count": 212,
   "metadata": {},
   "outputs": [
    {
     "name": "stdout",
     "output_type": "stream",
     "text": [
      "life is too short\n"
     ]
    }
   ],
   "source": [
    "print('life','is','too short')"
   ]
  },
  {
   "cell_type": "code",
   "execution_count": 213,
   "metadata": {},
   "outputs": [
    {
     "name": "stdout",
     "output_type": "stream",
     "text": [
      "0 1 2 3 4 5 6 7 8 9 "
     ]
    }
   ],
   "source": [
    "for i in range(10):\n",
    "    print(i, end = ' ')"
   ]
  },
  {
   "cell_type": "code",
   "execution_count": 214,
   "metadata": {},
   "outputs": [
    {
     "name": "stdout",
     "output_type": "stream",
     "text": [
      "0123456789"
     ]
    }
   ],
   "source": [
    "for i in range(10):\n",
    "    print(i, end = '')"
   ]
  },
  {
   "cell_type": "code",
   "execution_count": 215,
   "metadata": {},
   "outputs": [],
   "source": [
    "#숙제 sep 찾아보고 써보기"
   ]
  },
  {
   "cell_type": "code",
   "execution_count": 216,
   "metadata": {},
   "outputs": [],
   "source": [
    "f = open('새파일.txt','w')\n",
    "f.close()\n",
    "\n",
    "\n",
    "#파일 생성하는문법, r읽기,w쓰기,a추가모드, 또한 항상 닫아줘야함."
   ]
  },
  {
   "cell_type": "code",
   "execution_count": 217,
   "metadata": {},
   "outputs": [],
   "source": [
    "#######명령어########\n",
    "# 윈도우 돋보기에 cmp 치고 클릭\n",
    "# 관리자 명령 프롬프트 -> 검은창\n",
    "\n",
    "# dir : 디렉토리안에 있는 파일의 목록 확인\n",
    "# cd 디렉토리명 : 특정 디텍토리 안으로 이동\n",
    "# cd.. : 디렉토리에서 빠져 나올때\n",
    "# md 디렉토리명 : 디텔토리 만들기\n",
    "# re 디렉토리명: 디렉토리 삭제\n",
    "\n"
   ]
  },
  {
   "cell_type": "code",
   "execution_count": 220,
   "metadata": {},
   "outputs": [],
   "source": [
    "f = open('새파일.txt','w')\n",
    "for i in range(1,10):\n",
    "    data = '%d번째 줄입니다.\\n' %i\n",
    "    f.write(data)\n",
    "f.close()"
   ]
  },
  {
   "cell_type": "code",
   "execution_count": 221,
   "metadata": {},
   "outputs": [
    {
     "name": "stdout",
     "output_type": "stream",
     "text": [
      "1번째 줄입니다.\n",
      "\n"
     ]
    }
   ],
   "source": [
    "f = open('새파일.txt','r')\n",
    "line = f.readline()\n",
    "print(line)\n",
    "f.close()"
   ]
  },
  {
   "cell_type": "code",
   "execution_count": 224,
   "metadata": {},
   "outputs": [
    {
     "name": "stdout",
     "output_type": "stream",
     "text": [
      "1번째 줄입니다.\n",
      "\n",
      "2번째 줄입니다.\n",
      "\n",
      "3번째 줄입니다.\n",
      "\n",
      "4번째 줄입니다.\n",
      "\n",
      "5번째 줄입니다.\n",
      "\n",
      "6번째 줄입니다.\n",
      "\n",
      "7번째 줄입니다.\n",
      "\n",
      "8번째 줄입니다.\n",
      "\n",
      "9번째 줄입니다.\n",
      "\n"
     ]
    }
   ],
   "source": [
    "f = open('새파일.txt','r')\n",
    "while True:\n",
    "    line = f.readline()\n",
    "    if not line: break\n",
    "    print(line)\n",
    "        \n",
    "f.close()"
   ]
  },
  {
   "cell_type": "code",
   "execution_count": 225,
   "metadata": {},
   "outputs": [
    {
     "name": "stdout",
     "output_type": "stream",
     "text": [
      "1번째 줄입니다.\n",
      "\n",
      "2번째 줄입니다.\n",
      "\n",
      "3번째 줄입니다.\n",
      "\n",
      "4번째 줄입니다.\n",
      "\n",
      "5번째 줄입니다.\n",
      "\n",
      "6번째 줄입니다.\n",
      "\n",
      "7번째 줄입니다.\n",
      "\n",
      "8번째 줄입니다.\n",
      "\n",
      "9번째 줄입니다.\n",
      "\n"
     ]
    }
   ],
   "source": [
    "f = open('새파일.txt','r')\n",
    "lines = f.readlines()\n",
    "for line in lines:\n",
    "    print(line)\n",
    "f.close()"
   ]
  },
  {
   "cell_type": "code",
   "execution_count": 226,
   "metadata": {},
   "outputs": [
    {
     "name": "stdout",
     "output_type": "stream",
     "text": [
      "9번째 줄입니다.\n",
      "\n"
     ]
    }
   ],
   "source": [
    "f = open('새파일.txt','r')\n",
    "date = f.read()\n",
    "print(data)\n",
    "f.close()"
   ]
  },
  {
   "cell_type": "code",
   "execution_count": 232,
   "metadata": {},
   "outputs": [],
   "source": [
    "f = open('새파일.txt','a')\n",
    "for i in range(11,20):\n",
    "    data = '%d번째 줄입니다.\\n'% i\n",
    "    f.write(data)\n",
    "f.close()\n",
    "\n",
    "\n",
    "\n",
    "# 'w'는 알아서 파일 닫기 떄문에 'w'쓰면 됨."
   ]
  },
  {
   "cell_type": "code",
   "execution_count": 233,
   "metadata": {},
   "outputs": [
    {
     "name": "stdout",
     "output_type": "stream",
     "text": [
      "홀수\n"
     ]
    }
   ],
   "source": [
    "def is_odd (i):\n",
    "    if i % 2 == 1 :\n",
    "        return print('홀수')\n",
    "    else:\n",
    "        return print('짝수')\n",
    "\n",
    "\n",
    "is_odd(7)"
   ]
  },
  {
   "cell_type": "code",
   "execution_count": 234,
   "metadata": {},
   "outputs": [
    {
     "name": "stdout",
     "output_type": "stream",
     "text": [
      "짝수\n"
     ]
    }
   ],
   "source": [
    "is_odd(8)"
   ]
  },
  {
   "cell_type": "code",
   "execution_count": 237,
   "metadata": {},
   "outputs": [
    {
     "data": {
      "text/plain": [
       "2.0"
      ]
     },
     "execution_count": 237,
     "metadata": {},
     "output_type": "execute_result"
    }
   ],
   "source": [
    "def average(*args):\n",
    "    sum = 0\n",
    "    for i in args:\n",
    "        sum = sum + i\n",
    "    return sum / len(args)\n",
    "\n",
    "average(1,2,3)\n",
    "\n",
    "\n",
    "#퀴즈 ...왜 2아니고 2.0인지?"
   ]
  },
  {
   "cell_type": "code",
   "execution_count": 239,
   "metadata": {},
   "outputs": [
    {
     "name": "stdout",
     "output_type": "stream",
     "text": [
      "첫번째 숫자를 입력하세요:1\n",
      "두번쨰 숫자를 입력하세요:2\n",
      "두 수의 합은 12 입니다\n"
     ]
    }
   ],
   "source": [
    "input1 = input('첫번째 숫자를 입력하세요:')\n",
    "input2 = input('두번쨰 숫자를 입력하세요:')\n",
    "\n",
    "total = input1 + input2\n",
    "print('두 수의 합은 %s 입니다' %total)\n",
    "#?????오류 나와야하는데ㅔ.. int 문자로처리?"
   ]
  },
  {
   "cell_type": "code",
   "execution_count": 240,
   "metadata": {},
   "outputs": [
    {
     "name": "stdout",
     "output_type": "stream",
     "text": [
      "youneedpython\n"
     ]
    }
   ],
   "source": [
    "print(\"\".join(['you','need','python']))"
   ]
  },
  {
   "cell_type": "code",
   "execution_count": 241,
   "metadata": {},
   "outputs": [
    {
     "name": "stdout",
     "output_type": "stream",
     "text": [
      "you need python\n"
     ]
    }
   ],
   "source": [
    "print('you','need','python')"
   ]
  },
  {
   "cell_type": "code",
   "execution_count": 242,
   "metadata": {},
   "outputs": [
    {
     "name": "stdout",
     "output_type": "stream",
     "text": [
      "youneedpython\n"
     ]
    }
   ],
   "source": [
    "print('you'+'need'+'python')"
   ]
  },
  {
   "cell_type": "code",
   "execution_count": 243,
   "metadata": {},
   "outputs": [],
   "source": [
    "####\n"
   ]
  },
  {
   "cell_type": "code",
   "execution_count": 246,
   "metadata": {},
   "outputs": [
    {
     "name": "stdout",
     "output_type": "stream",
     "text": [
      "Life is too short\n"
     ]
    }
   ],
   "source": [
    "f1 = open('test.txt','w')\n",
    "f1.write('Life is too short')\n",
    "f.close()\n",
    "\n",
    "\n",
    "f2 = open('test.txt','r')\n",
    "print(f2.read())\n",
    "\n",
    "\n",
    "#파일 닫아주거나, 위도문??을 사용 위도문이 뭐?\n"
   ]
  },
  {
   "cell_type": "code",
   "execution_count": 247,
   "metadata": {},
   "outputs": [],
   "source": [
    "###########\n"
   ]
  },
  {
   "cell_type": "code",
   "execution_count": 248,
   "metadata": {},
   "outputs": [
    {
     "data": {
      "text/plain": [
       "1"
      ]
     },
     "execution_count": 248,
     "metadata": {},
     "output_type": "execute_result"
    }
   ],
   "source": [
    "5%4"
   ]
  },
  {
   "cell_type": "code",
   "execution_count": null,
   "metadata": {},
   "outputs": [],
   "source": []
  }
 ],
 "metadata": {
  "kernelspec": {
   "display_name": "Python 3",
   "language": "python",
   "name": "python3"
  },
  "language_info": {
   "codemirror_mode": {
    "name": "ipython",
    "version": 3
   },
   "file_extension": ".py",
   "mimetype": "text/x-python",
   "name": "python",
   "nbconvert_exporter": "python",
   "pygments_lexer": "ipython3",
   "version": "3.8.5"
  }
 },
 "nbformat": 4,
 "nbformat_minor": 4
}
