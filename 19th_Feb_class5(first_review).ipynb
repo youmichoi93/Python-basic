{
  "nbformat": 4,
  "nbformat_minor": 0,
  "metadata": {
    "colab": {
      "name": "19th Feb class5(first review)",
      "provenance": [],
      "collapsed_sections": [],
      "authorship_tag": "ABX9TyOw7qgOZiD5t5TqdUug83Ek",
      "include_colab_link": true
    },
    "kernelspec": {
      "name": "python3",
      "display_name": "Python 3"
    }
  },
  "cells": [
    {
      "cell_type": "markdown",
      "metadata": {
        "id": "view-in-github",
        "colab_type": "text"
      },
      "source": [
        "<a href=\"https://colab.research.google.com/github/youmichoi93/python-basic/blob/main/19th_Feb_class5(first_review).ipynb\" target=\"_parent\"><img src=\"https://colab.research.google.com/assets/colab-badge.svg\" alt=\"Open In Colab\"/></a>"
      ]
    },
    {
      "cell_type": "code",
      "metadata": {
        "id": "BYAEmYd6OoXP"
      },
      "source": [
        "##### 연습문제 ########"
      ],
      "execution_count": null,
      "outputs": []
    },
    {
      "cell_type": "code",
      "metadata": {
        "colab": {
          "base_uri": "https://localhost:8080/"
        },
        "id": "cNM-zXcaI-mH",
        "outputId": "024b8362-568b-444a-c3e5-1a13421a1159"
      },
      "source": [
        "#1\r\n",
        "\r\n",
        "nums = [100,200,300,400,500]\r\n",
        "nums.pop(4)\r\n",
        "nums.pop(3)"
      ],
      "execution_count": 13,
      "outputs": [
        {
          "output_type": "execute_result",
          "data": {
            "text/plain": [
              "400"
            ]
          },
          "metadata": {
            "tags": []
          },
          "execution_count": 13
        }
      ]
    },
    {
      "cell_type": "code",
      "metadata": {
        "colab": {
          "base_uri": "https://localhost:8080/"
        },
        "id": "_dY8jIgFJ3dp",
        "outputId": "7291efd8-0ca6-48bf-ddd0-71174a15c09e"
      },
      "source": [
        ""
      ],
      "execution_count": 6,
      "outputs": [
        {
          "output_type": "stream",
          "text": [
            "[100, 200, 300]\n"
          ],
          "name": "stdout"
        }
      ]
    },
    {
      "cell_type": "code",
      "metadata": {
        "colab": {
          "base_uri": "https://localhost:8080/"
        },
        "id": "gdmaOmhxJ5Qv",
        "outputId": "e3498eba-148c-4870-a9f8-8d8fc90c6897"
      },
      "source": [
        "nums[:-2]"
      ],
      "execution_count": 7,
      "outputs": [
        {
          "output_type": "execute_result",
          "data": {
            "text/plain": [
              "[100]"
            ]
          },
          "metadata": {
            "tags": []
          },
          "execution_count": 7
        }
      ]
    },
    {
      "cell_type": "code",
      "metadata": {
        "colab": {
          "base_uri": "https://localhost:8080/"
        },
        "id": "vS0Q-NYJKOp1",
        "outputId": "73ada5ee-aab4-48be-ccc2-22d178bf4b89"
      },
      "source": [
        "print(nums)"
      ],
      "execution_count": 8,
      "outputs": [
        {
          "output_type": "stream",
          "text": [
            "[100, 200, 300]\n"
          ],
          "name": "stdout"
        }
      ]
    },
    {
      "cell_type": "code",
      "metadata": {
        "id": "kUphQrLOOgm_"
      },
      "source": [
        ""
      ],
      "execution_count": null,
      "outputs": []
    },
    {
      "cell_type": "code",
      "metadata": {
        "id": "pgByeotsKQ2H"
      },
      "source": [
        "#2\r\n",
        "\r\n",
        "l = [200,100,300]\r\n",
        "l.insert(2,1000)"
      ],
      "execution_count": 11,
      "outputs": []
    },
    {
      "cell_type": "code",
      "metadata": {
        "colab": {
          "base_uri": "https://localhost:8080/"
        },
        "id": "mCvE0MtON4vF",
        "outputId": "329b4a43-f46a-4980-9310-1a78828537aa"
      },
      "source": [
        "print(l)"
      ],
      "execution_count": 12,
      "outputs": [
        {
          "output_type": "stream",
          "text": [
            "[200, 100, 1000, 300]\n"
          ],
          "name": "stdout"
        }
      ]
    },
    {
      "cell_type": "code",
      "metadata": {
        "id": "sGeIl0RON6Jw"
      },
      "source": [
        "a = 10\r\n",
        "b = 2\r\n",
        "for i in range(1,5,2):\r\n",
        "  a+=i"
      ],
      "execution_count": 14,
      "outputs": []
    },
    {
      "cell_type": "code",
      "metadata": {
        "colab": {
          "base_uri": "https://localhost:8080/"
        },
        "id": "HnqsmeUOQ6mG",
        "outputId": "1ade4a0b-7582-4cf5-805d-5878c1aa8dee"
      },
      "source": [
        "print(a+b)\r\n",
        "\r\n",
        "# range1,2,3,4 이고 , 2간격씩 넣어라, 따라서 1,3 만 넣으니 a = a+1 11 , 다음 a 11 + 3  a는 14 +b = 정답 16"
      ],
      "execution_count": 15,
      "outputs": [
        {
          "output_type": "stream",
          "text": [
            "16\n"
          ],
          "name": "stdout"
        }
      ]
    },
    {
      "cell_type": "code",
      "metadata": {
        "id": "KE30F8hZQ7kN"
      },
      "source": [
        "#변수는 숫자로 안 됨\r\n",
        "#as는 예약어임,, print 이런 것처럼 이미 쓰는 것이라 변수 안됨\r\n",
        "#딕셔너리는 같은 키에 밸류 두개 일때 뒤에꺼 먼저 나옴"
      ],
      "execution_count": 17,
      "outputs": []
    },
    {
      "cell_type": "code",
      "metadata": {
        "colab": {
          "base_uri": "https://localhost:8080/"
        },
        "id": "2ABGJkYNW6Am",
        "outputId": "9dac9f47-3644-4b4e-b964-7364601daee2"
      },
      "source": [
        "year = '2019'\r\n",
        "month = '04'\r\n",
        "day = '26'\r\n",
        "hour = '11'\r\n",
        "minute = '34'\r\n",
        "second = '27'\r\n",
        "\r\n",
        "\r\n",
        "print (year, month, day, sep=\"/\")\r\n",
        "print (hour, minute, second,sep = \":\")\r\n"
      ],
      "execution_count": 130,
      "outputs": [
        {
          "output_type": "stream",
          "text": [
            "2019/04/26\n",
            "11:34:27\n"
          ],
          "name": "stdout"
        }
      ]
    },
    {
      "cell_type": "code",
      "metadata": {
        "colab": {
          "base_uri": "https://localhost:8080/"
        },
        "id": "YmMHHjr9db6h",
        "outputId": "d5b17660-cab4-4866-91fc-b4ee0befd624"
      },
      "source": [
        "#별로 트리 만들기 \r\n",
        "\r\n",
        "n = int(input('몇단짜리 트리를 만들까요?:'))\r\n",
        "for i in range(1,n+1): #n=5라고 가정\r\n",
        "  print(\" \"* (n-i) + \"*\" *(2*i-1))\r\n",
        "\r\n",
        "\r\n",
        "\r\n",
        "\r\n",
        "# print(' '*4+'*'*1) \r\n",
        "\r\n",
        "\r\n",
        "\r\n",
        " #빈칸글자 4개 ,별글자 1개 \r\n",
        " #빈칸글자 3 , 별글자3\r\n",
        " #빈칸글자 2, 별글자 5\r\n",
        " #빈칸글자 1 , 별글자 7 \r\n",
        " #빈칸글자 0 ,별글자 9"
      ],
      "execution_count": 135,
      "outputs": [
        {
          "output_type": "stream",
          "text": [
            "몇단짜리 트리를 만들까요?:4\n",
            "   *\n",
            "  ***\n",
            " *****\n",
            "*******\n"
          ],
          "name": "stdout"
        }
      ]
    },
    {
      "cell_type": "code",
      "metadata": {
        "id": "IRnBUnjmdtP6"
      },
      "source": [
        "#11"
      ],
      "execution_count": 51,
      "outputs": []
    },
    {
      "cell_type": "code",
      "metadata": {
        "colab": {
          "base_uri": "https://localhost:8080/"
        },
        "id": "0UhWiDJPztA4",
        "outputId": "a79d5ccc-944c-4486-a5ad-55b70aa24760"
      },
      "source": [
        "s = 0\r\n",
        "for i in range(1,101):\r\n",
        "  s = s + i\r\n",
        "print(s)"
      ],
      "execution_count": 53,
      "outputs": [
        {
          "output_type": "stream",
          "text": [
            "5050\n"
          ],
          "name": "stdout"
        }
      ]
    },
    {
      "cell_type": "code",
      "metadata": {
        "colab": {
          "base_uri": "https://localhost:8080/"
        },
        "id": "ASbpuuyM1cgf",
        "outputId": "333b1895-0649-46c1-c88c-28b5bc8b96a8"
      },
      "source": [
        "#12   ##생성자를 만들어서 바로 입력값이 출력 되게함.\r\n",
        "\r\n",
        "class Wizard:\r\n",
        "  def __init__ (self, health, mana, armor):\r\n",
        "    self.health = health\r\n",
        "    self.mana = mana\r\n",
        "    self.armor = armor\r\n",
        "  def attack(self):\r\n",
        "   print('파이어볼')\r\n",
        "\r\n",
        "x = Wizard(health = 545, mana = 210, armor = 10)\r\n",
        "print(x.health, x.mana, x.armor)\r\n",
        "x.attack()\r\n"
      ],
      "execution_count": 141,
      "outputs": [
        {
          "output_type": "stream",
          "text": [
            "545 210 10\n",
            "파이어볼\n"
          ],
          "name": "stdout"
        }
      ]
    },
    {
      "cell_type": "code",
      "metadata": {
        "colab": {
          "base_uri": "https://localhost:8080/"
        },
        "id": "heSU-QZ4-1oz",
        "outputId": "52065e60-c972-40de-e990-4bc91ad62f16"
      },
      "source": [
        "\r\n",
        "#13 모범답안\r\n",
        "\r\n",
        "planets = ['수정','금성','지구','화성','목성','토성','천왕성','해왕성']\r\n",
        "\r\n",
        "n = int(input('몇 번째 행성의 이름을 알고 싶으신가요?:'))\r\n",
        "print(planets[n-1])\r\n",
        "\r\n",
        "\r\n",
        "#n-1해야하는 것은 첫 번째가 0이기 때문에\r\n",
        "#혹은 n = int(input('몇 번째 행성의 이름을 알고 싶으신가요?:'))-1"
      ],
      "execution_count": 70,
      "outputs": [
        {
          "output_type": "stream",
          "text": [
            "몇 번째 행성의 이름을 알고 싶으신가요?:1\n",
            "수정\n"
          ],
          "name": "stdout"
        }
      ]
    },
    {
      "cell_type": "code",
      "metadata": {
        "colab": {
          "base_uri": "https://localhost:8080/"
        },
        "id": "FamB27qG_ns3",
        "outputId": "97111bdf-f1b6-4837-fd70-db4220f442c8"
      },
      "source": [
        "#14  \r\n",
        "\r\n",
        "\r\n",
        "\r\n",
        "i = int(input('숫자를 입력하세요:')) \r\n",
        "\r\n",
        "if  i %3 == 0:\r\n",
        "  print('짝')\r\n",
        "else :\r\n",
        "  print(i)\r\n",
        "\r\n",
        "\r\n",
        "\r\n"
      ],
      "execution_count": 77,
      "outputs": [
        {
          "output_type": "stream",
          "text": [
            "숫자를 입력하세요:14\n",
            "14\n"
          ],
          "name": "stdout"
        }
      ]
    },
    {
      "cell_type": "code",
      "metadata": {
        "colab": {
          "base_uri": "https://localhost:8080/"
        },
        "id": "xK-iWNT4B1qB",
        "outputId": "8856c68e-3e25-4566-a689-9a436146db46"
      },
      "source": [
        "#15\r\n",
        "\r\n",
        "a = input()\r\n",
        "print('안녕하세요,저는 %s입니다'%a)"
      ],
      "execution_count": 82,
      "outputs": [
        {
          "output_type": "stream",
          "text": [
            "유미\n",
            "안녕하세요,저는 유미입니다\n"
          ],
          "name": "stdout"
        }
      ]
    },
    {
      "cell_type": "code",
      "metadata": {
        "id": "L6BwSGd3C7nU"
      },
      "source": [
        "#16\r\n",
        "\r\n",
        "a = ['거','꾸','로']\r\n",
        "a.reverse()"
      ],
      "execution_count": 89,
      "outputs": []
    },
    {
      "cell_type": "code",
      "metadata": {
        "colab": {
          "base_uri": "https://localhost:8080/"
        },
        "id": "8wyOZMjoEHty",
        "outputId": "c930f463-7109-46d0-ef90-46678a6772dc"
      },
      "source": [
        "print(a)"
      ],
      "execution_count": 90,
      "outputs": [
        {
          "output_type": "stream",
          "text": [
            "['로', '꾸', '거']\n"
          ],
          "name": "stdout"
        }
      ]
    },
    {
      "cell_type": "code",
      "metadata": {
        "colab": {
          "base_uri": "https://localhost:8080/"
        },
        "id": "IAWr12vzFiXh",
        "outputId": "9d1fe21a-6083-415e-8d0e-fae334eb5349"
      },
      "source": [
        "a = input()\r\n",
        "a = ['거','꾸','로']\r\n",
        "a.reverse()\r\n",
        "print(a)\r\n",
        "\r\n",
        "#이러면 리스트로 나와서 안 됨."
      ],
      "execution_count": 94,
      "outputs": [
        {
          "output_type": "stream",
          "text": [
            "거꾸로\n",
            "['로', '꾸', '거']\n"
          ],
          "name": "stdout"
        }
      ]
    },
    {
      "cell_type": "code",
      "metadata": {
        "colab": {
          "base_uri": "https://localhost:8080/"
        },
        "id": "GgQZUT88GQIr",
        "outputId": "dd4fbd9b-d6ab-4310-df15-84e797a432e0"
      },
      "source": [
        "#모범답안 그냥 외우기\r\n",
        "\r\n",
        "\r\n",
        "a = input()\r\n",
        "print(a[::-1])\r\n",
        "\r\n"
      ],
      "execution_count": 138,
      "outputs": [
        {
          "output_type": "stream",
          "text": [
            "거꾸로\n",
            "로꾸거\n"
          ],
          "name": "stdout"
        }
      ]
    },
    {
      "cell_type": "code",
      "metadata": {
        "colab": {
          "base_uri": "https://localhost:8080/",
          "height": 128
        },
        "id": "1fWQmH-aHjW7",
        "outputId": "854559e9-e4e3-4b5b-d47d-d219be563a5b"
      },
      "source": [
        "#17\r\n",
        "\r\n",
        " a = int(input('숫자를 입력하세요:'))\r\n",
        "\r\n",
        " if a > 150:\r\n",
        "  print('yes')\r\n",
        " else:\r\n",
        "  print('no')\r\n"
      ],
      "execution_count": 8,
      "outputs": [
        {
          "output_type": "error",
          "ename": "IndentationError",
          "evalue": "ignored",
          "traceback": [
            "\u001b[0;36m  File \u001b[0;32m\"<ipython-input-8-a6721b563a10>\"\u001b[0;36m, line \u001b[0;32m3\u001b[0m\n\u001b[0;31m    a = int(input('숫자를 입력하세요:'))\u001b[0m\n\u001b[0m    ^\u001b[0m\n\u001b[0;31mIndentationError\u001b[0m\u001b[0;31m:\u001b[0m unexpected indent\n"
          ]
        }
      ]
    },
    {
      "cell_type": "code",
      "metadata": {
        "colab": {
          "base_uri": "https://localhost:8080/"
        },
        "id": "PFZxx7WZIT4y",
        "outputId": "d55fd098-2daa-45d3-d032-2ac522917958"
      },
      "source": [
        "#18 #모범답안\r\n",
        "\r\n",
        "nums = list(map(int,input().split()))\r\n",
        "print(int(sum(nums)/len(nums)))"
      ],
      "execution_count": 108,
      "outputs": [
        {
          "output_type": "stream",
          "text": [
            "70 50 90\n",
            "70\n"
          ],
          "name": "stdout"
        }
      ]
    },
    {
      "cell_type": "code",
      "metadata": {
        "colab": {
          "base_uri": "https://localhost:8080/"
        },
        "id": "D65GtemoJ53y",
        "outputId": "dcf5913a-bd23-4fc4-b0a3-2a05cce22982"
      },
      "source": [
        "#19 #모범답안\r\n",
        "\r\n",
        "n =list(map(int,input().split()))\r\n",
        "print(n[0]**n[1])"
      ],
      "execution_count": 106,
      "outputs": [
        {
          "output_type": "stream",
          "text": [
            "1 2\n",
            "1\n"
          ],
          "name": "stdout"
        }
      ]
    },
    {
      "cell_type": "code",
      "metadata": {
        "colab": {
          "base_uri": "https://localhost:8080/",
          "height": 128
        },
        "id": "oOiyX-0BMx6p",
        "outputId": "43bf41a0-37b3-44f1-a2cc-4e35eaef0a11"
      },
      "source": [
        "#20\r\n",
        "\r\n",
        "n = list(map(int,input(),split()))\r\n",
        " print(n[0] // n[1], end = \" \")\r\n",
        " print(n[0] % n[1])"
      ],
      "execution_count": 151,
      "outputs": [
        {
          "output_type": "error",
          "ename": "IndentationError",
          "evalue": "ignored",
          "traceback": [
            "\u001b[0;36m  File \u001b[0;32m\"<ipython-input-151-a1aa5594f036>\"\u001b[0;36m, line \u001b[0;32m4\u001b[0m\n\u001b[0;31m    print(n[0] // n[1], end = \" \")\u001b[0m\n\u001b[0m    ^\u001b[0m\n\u001b[0;31mIndentationError\u001b[0m\u001b[0;31m:\u001b[0m unexpected indent\n"
          ]
        }
      ]
    },
    {
      "cell_type": "code",
      "metadata": {
        "colab": {
          "base_uri": "https://localhost:8080/",
          "height": 52
        },
        "id": "G12BwWVVRjii",
        "outputId": "825b845c-8ee1-4760-d7ff-800b7065fe05"
      },
      "source": [
        "#24\r\n",
        "\r\n",
        "\r\n",
        "a = input()\r\n",
        "a.upper()\r\n",
        "\r\n",
        "\r\n"
      ],
      "execution_count": 152,
      "outputs": [
        {
          "output_type": "stream",
          "text": [
            "mary\n"
          ],
          "name": "stdout"
        },
        {
          "output_type": "execute_result",
          "data": {
            "application/vnd.google.colaboratory.intrinsic+json": {
              "type": "string"
            },
            "text/plain": [
              "'MARY'"
            ]
          },
          "metadata": {
            "tags": []
          },
          "execution_count": 152
        }
      ]
    },
    {
      "cell_type": "code",
      "metadata": {
        "colab": {
          "base_uri": "https://localhost:8080/"
        },
        "id": "R_XxXe3UVDOj",
        "outputId": "66c54239-99ed-4821-e52d-682eaad9e6af"
      },
      "source": [
        "#문제 25\r\n",
        "\r\n",
        "def circle(n):\r\n",
        "   return n*n*3.14\r\n",
        "#리턴 : 계산한 값을 가지고 나가라\r\n",
        "\r\n",
        "\r\n",
        "circle (int(input()))"
      ],
      "execution_count": 117,
      "outputs": [
        {
          "output_type": "stream",
          "text": [
            "5\n"
          ],
          "name": "stdout"
        },
        {
          "output_type": "execute_result",
          "data": {
            "text/plain": [
              "78.5"
            ]
          },
          "metadata": {
            "tags": []
          },
          "execution_count": 117
        }
      ]
    },
    {
      "cell_type": "code",
      "metadata": {
        "colab": {
          "base_uri": "https://localhost:8080/"
        },
        "id": "n4gNnopwWZ7B",
        "outputId": "f57da215-f45e-455c-8d8b-c5d21553358d"
      },
      "source": [
        "names = {\r\n",
        "    '수성':'Mercury',\r\n",
        "    '금성':'Venus',\r\n",
        "    '지구':'Earth',\r\n",
        "    '화성':'Mars',\r\n",
        "    '목성':'Jupiter',\r\n",
        "    '토성':'Saturn',\r\n",
        "    '천왕성':'Uranus',\r\n",
        "    '해왕성':'Neptune'\r\n",
        "    }\r\n",
        "\r\n",
        "# #try:\r\n",
        "#   a = input()\r\n",
        "#   names[a]\r\n",
        "# except KeyError:\r\n",
        "#   print('찾는 행성이 없습니다.')\r\n",
        "\r\n",
        "\r\n",
        "print((names.get(input())))\r\n",
        "\r\n",
        "#get은 오류 안 뜨게 해줌.이게 더 보기 좋음\r\n",
        "#앞으로 딕셔너리는 이렇게 엔터 쳐주기 가독성을 위하여\r\n"
      ],
      "execution_count": 128,
      "outputs": [
        {
          "output_type": "stream",
          "text": [
            "사과\n",
            "None\n"
          ],
          "name": "stdout"
        }
      ]
    }
  ]
}