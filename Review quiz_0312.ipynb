{
 "cells": [
  {
   "cell_type": "code",
   "execution_count": null,
   "metadata": {},
   "outputs": [],
   "source": [
    "# Q.1 중복된 이름 빼고 총 인원수를 구하라\n",
    "\n",
    "people = {\n",
    "  ('이호준','01050442903'),\n",
    "  ('이호상','01051442904'),\n",
    "  ('이준호','01050342904'),\n",
    "  ('이호준','01050442903'),\n",
    "  ('이준','01050412903'),\n",
    "  ('이호','01050443904'),\n",
    "  ('이호준','01050442903'),\n",
    "\n",
    "}\n",
    "#Set으로 중복된 자료 제거\n",
    "\n",
    "a = len(set(people))\n",
    "print(a)\n",
    "#중복된 자료가 제거된 set의 길이를 출력\n"
   ]
  },
  {
   "cell_type": "code",
   "execution_count": 8,
   "metadata": {
    "scrolled": true
   },
   "outputs": [
    {
     "name": "stdout",
     "output_type": "stream",
     "text": [
      "AAAbbbCCCddd\n",
      "aaaBBBcccDDD\n"
     ]
    }
   ],
   "source": [
    "# Q.2 입력한 알파벳 중 대문자를 소문자로 소문자를 대문자로 바꾸어라.\n",
    "\n",
    "\n",
    "a = input()   #알파벳을 입력.\n",
    "print (a.swapcase())   #대문자를 소문자로 소문자는 대문자로 출력."
   ]
  },
  {
   "cell_type": "code",
   "execution_count": 36,
   "metadata": {},
   "outputs": [
    {
     "name": "stdout",
     "output_type": "stream",
     "text": [
      "10 9 8 7 6 5 4 3 2 1\n",
      "10\n"
     ]
    }
   ],
   "source": [
    "# Q.3 순서가 없는 10개의 숫자가 공백으로 구분되어 주어진다, 주어진 숫자들 중 최댓값을 반환하라.\n",
    "\n",
    "a = list(map(int,input().split()))  # 입력받은 숫자를 리스트로 만들고 빈칸을 기준으로 나눈다, \n",
    "print(max(a))\n",
    "\n",
    "\n",
    "\n",
    "\n",
    "# #max없이 최댓값\n",
    "\n",
    "# a = list(map(int,input().split()))  # 입력받은 숫자를 리스트로 만들고 빈칸을 기준으로 나눈다, \n",
    "\n",
    "# maxValue = a[0]  #입력받은 값의 첫번째 수로 변수지정.\n",
    "# for i in range(1, len(a)):  #변수 i 가 1에서 마지막 자리까지 범위일때 (len(a)-1),\n",
    "#     if maxValue < a[i]:  #만약 입력받은 수가 크면, \n",
    "#         maxValue = a[i]  #a를 그 큰 수로 계속 변수할당.\n",
    "# print(maxValue)  # 맥스벨류를 출력.\n",
    "\n",
    "\n",
    "\n"
   ]
  },
  {
   "cell_type": "code",
   "execution_count": 102,
   "metadata": {
    "scrolled": true
   },
   "outputs": [
    {
     "name": "stdout",
     "output_type": "stream",
     "text": [
      "번호:1, 이름:강은지\n",
      "번호:2, 이름:강채연\n",
      "번호:3, 이름:권윤일\n",
      "번호:4, 이름:김민호\n",
      "번호:5, 이름:김유정\n",
      "번호:6, 이름:김진이\n",
      "번호:7, 이름:김채리\n",
      "번호:8, 이름:박지호\n",
      "번호:9, 이름:박현서\n",
      "번호:10, 이름:최성훈\n",
      "번호:11, 이름:한지호\n",
      "번호:12, 이름:홍유진\n"
     ]
    }
   ],
   "source": [
    "# Q.4 이름을 가나다 순서대로 배정하고 번호를 매기기.\n",
    "# 출력은 번호:1, 이름: 강은지 이런식으로\n",
    "\n",
    "student = ['강은지','김유정','박현서','최성훈','홍유진','박지호','권윤일','김채리','한지호','김진이','김민호','강채연']\n",
    "a = (sorted(student))   \n",
    "\n",
    "\n",
    "for i in range(len(a)):\n",
    "    print('번호:{}, 이름:{}'.format(i+1,a[i]))\n",
    "\n",
    "        "
   ]
  },
  {
   "cell_type": "code",
   "execution_count": 103,
   "metadata": {},
   "outputs": [
    {
     "name": "stdout",
     "output_type": "stream",
     "text": [
      "나는 금요일이 좋다\n",
      "나금좋"
     ]
    }
   ],
   "source": [
    "# Q.5 '복잡한 세상 편하게 살자' 라는 문장을 '복세편살'로 줄여 만들자\n",
    "\n",
    "# a = input().split(' ') \n",
    "# result =''            \n",
    "# for i in a :        \n",
    "#     result = result + i[0]\n",
    "#     print(result)\n",
    "\n",
    "\n",
    "\n",
    "a = input()  #문장을 입력받음.1\n",
    "for i in range(len(a)): # 입력받은 문장의 길이까지 for문 돌림.\n",
    "    if i == 0 or a[i-1].isspace(): #첫번째 문자거나, 그전 문자가 공백이면\n",
    "        print(a[i], end='') #그 문장의 i번째를 출력"
   ]
  },
  {
   "cell_type": "code",
   "execution_count": 104,
   "metadata": {},
   "outputs": [
    {
     "name": "stdout",
     "output_type": "stream",
     "text": [
      "수를 입력하시오: 1111\n",
      "4 자리수\n"
     ]
    }
   ],
   "source": [
    "# Q.6 양의 정수만 입력으로 받고 그 수의 자릿수를 출력\n",
    "\n",
    "a = input(\"수를 입력하시오: \")\n",
    "print(len(a),\"자리수\")"
   ]
  },
  {
   "cell_type": "code",
   "execution_count": 107,
   "metadata": {},
   "outputs": [
    {
     "name": "stdout",
     "output_type": "stream",
     "text": [
      "공백을 제외한 글자수만을 세는 코드테스트\n",
      "18\n"
     ]
    }
   ],
   "source": [
    "# Q.7 공백을 제외한 글자수만을 세는 코드테스트\n",
    "\n",
    "a = input()\n",
    "print(len(a.replace(\" \",\"\")))"
   ]
  },
  {
   "cell_type": "code",
   "execution_count": null,
   "metadata": {},
   "outputs": [],
   "source": []
  }
 ],
 "metadata": {
  "kernelspec": {
   "display_name": "Python 3",
   "language": "python",
   "name": "python3"
  },
  "language_info": {
   "codemirror_mode": {
    "name": "ipython",
    "version": 3
   },
   "file_extension": ".py",
   "mimetype": "text/x-python",
   "name": "python",
   "nbconvert_exporter": "python",
   "pygments_lexer": "ipython3",
   "version": "3.8.5"
  }
 },
 "nbformat": 4,
 "nbformat_minor": 4
}
