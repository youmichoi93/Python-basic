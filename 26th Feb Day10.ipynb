{
 "cells": [
  {
   "cell_type": "code",
   "execution_count": 4,
   "metadata": {},
   "outputs": [],
   "source": [
    " #데이터 입력 받아서 나눈다.\n",
    "\n",
    "\n",
    "# a = input().split() \n",
    "\n",
    "# print(a)\n",
    "\n",
    "\n",
    "\n",
    " #숫자로 입력 받아서 나눈다.\n",
    "# #map 함수 : 어떤 함수를 뒤에 다 처리해라\n",
    "\n",
    "# a = map(int,input().split())\n",
    "\n",
    "# print(a)\n",
    "\n",
    "\n",
    " #zip 함수 : 엮어준다.\n",
    "\n",
    "# # a = [1,2,3,4]\n",
    "# # b = [100,200,300,400]\n",
    "\n",
    "\n",
    "# print(list(zip(a,b)))\n",
    "\n",
    "\n"
   ]
  },
  {
   "cell_type": "code",
   "execution_count": 5,
   "metadata": {},
   "outputs": [
    {
     "name": "stdout",
     "output_type": "stream",
     "text": [
      "Yujin Hewon\n",
      "70 100\n",
      "{'Yujin': 70, 'Hewon': 100}\n"
     ]
    }
   ],
   "source": [
    "key = input().split()\n",
    "value = map(int, input().split())\n",
    "\n",
    "print(dict(zip(key,value)))\n"
   ]
  },
  {
   "cell_type": "code",
   "execution_count": 12,
   "metadata": {},
   "outputs": [
    {
     "name": "stdout",
     "output_type": "stream",
     "text": [
      "Python\n",
      "Py\n",
      "yt\n",
      "th\n",
      "ho\n",
      "on\n"
     ]
    }
   ],
   "source": [
    "# Q. 2-gram\n",
    "\n",
    "\n",
    "text = input()\n",
    " \n",
    "for i in range(len(text)-1):           \n",
    "    print(text[i], text[i + 1], sep='') "
   ]
  },
  {
   "cell_type": "code",
   "execution_count": 26,
   "metadata": {},
   "outputs": [
    {
     "name": "stdout",
     "output_type": "stream",
     "text": [
      "n\n",
      "NO\n"
     ]
    }
   ],
   "source": [
    "# Q. 대문자만 지나가세요.\n",
    "\n",
    "\n",
    "# 방법 1\n",
    "# a  = input()\n",
    "\n",
    "# if a.isupper():\n",
    "#     print('YES')\n",
    "# else:\n",
    "#     print('No')\n",
    "\n",
    "\n",
    "# 방법 2\n",
    "# a = input()\n",
    "# if ord(a) >=65 and ord(a) <=90:\n",
    "#     print('YES')\n",
    "# else:\n",
    "#     print('NO')\n",
    "\n",
    "\n",
    "# 방법 3\n",
    "\n",
    "a = input()\n",
    "if a >= chr(65) and a <= chr(92):\n",
    "    print('YES')\n",
    "else:\n",
    "    print('NO')\n",
    "\n"
   ]
  },
  {
   "cell_type": "code",
   "execution_count": 27,
   "metadata": {},
   "outputs": [],
   "source": [
    "# a.isupper() : 대문자인지 확인\n",
    "# a.islower() : 소문자인지 확인\n",
    "# a.isdigit() : 숫자인지 확인\n",
    "\n",
    "\n",
    "# ord ascll 코드값 확인 (아스칼 코드값)\n",
    "# ex> 65 A  90 Z\n",
    "\n",
    "# chr ord의 반대 개념.\n",
    "\n"
   ]
  },
  {
   "cell_type": "code",
   "execution_count": 49,
   "metadata": {},
   "outputs": [
    {
     "name": "stdout",
     "output_type": "stream",
     "text": [
      "우리는 민족 중흥의 역사적\n",
      "4\n"
     ]
    }
   ],
   "source": [
    "# Q.문자열 만들기\n",
    "\n",
    "#strip 공백 무시하기\n",
    "\n",
    "a = input()\n",
    "i = list(a.split())\n",
    "print(len(i))\n",
    "\n",
    "\n"
   ]
  },
  {
   "cell_type": "code",
   "execution_count": 100,
   "metadata": {},
   "outputs": [
    {
     "name": "stdout",
     "output_type": "stream",
     "text": [
      "1 2 3 4 5\n",
      "5 4 3 2 1 "
     ]
    }
   ],
   "source": [
    "# 33\n",
    "\n",
    "txt = input()\n",
    "txt2 = list(txt.split())\n",
    "txt3 = [int(i) for i in txt2]\n",
    "\n",
    "for i in range(len(txt3)-1,-1,-1):\n",
    "    print(txt3[i], end = ' ')\n",
    "    \n"
   ]
  },
  {
   "cell_type": "code",
   "execution_count": 59,
   "metadata": {},
   "outputs": [
    {
     "name": "stdout",
     "output_type": "stream",
     "text": [
      "12345\n",
      "12345\n",
      "['12345']\n",
      "[12345]\n",
      "YES\n"
     ]
    }
   ],
   "source": [
    "#34 sort 구현하기\n",
    "\n",
    "# sort & sorted\n",
    "\n",
    "num1 = input()\n",
    "\n",
    "num2 = num1.strip().split()\n",
    "num3 = [int(i) for i in num2]\n",
    "\n",
    "print(num1)\n",
    "print(num2)\n",
    "print(num3)\n",
    "\n",
    "\n",
    "if num3 != sorted(num3):\n",
    "    print(\"NO\")\n",
    "else:\n",
    "    print(\"YES\")"
   ]
  },
  {
   "cell_type": "code",
   "execution_count": 58,
   "metadata": {},
   "outputs": [],
   "source": [
    "# <list>.sort()를 사용하면 원본 리스트 자체의 순서를 변화 시킨다.\n",
    "# sorted(<list>)를 사용하면 정렬된 새로운 리스트를 반환 받는다.\n",
    "\n",
    "# <list>.sort()는 새로운 복사본을 만들지 않기 떄문에\n",
    "# sorted(<list>)보다 빠르다."
   ]
  },
  {
   "cell_type": "code",
   "execution_count": 68,
   "metadata": {},
   "outputs": [
    {
     "name": "stdout",
     "output_type": "stream",
     "text": [
      "3\n",
      "3 6 9 12 15 18 21 24 27 "
     ]
    }
   ],
   "source": [
    "###### Q.36 구구단 출력하기\n",
    "\n",
    "\n",
    " \n",
    "n = int(input())\n",
    "for i in range(1,10):\n",
    "    print(n*i,end = ' ')\n",
    "\n",
    "\n"
   ]
  },
  {
   "cell_type": "code",
   "execution_count": 70,
   "metadata": {},
   "outputs": [
    {
     "data": {
      "text/plain": [
       "3"
      ]
     },
     "execution_count": 70,
     "metadata": {},
     "output_type": "execute_result"
    }
   ],
   "source": [
    "####  37 \n",
    "\n",
    "#count 함수 기본 문법 : 변수.count(찾는값)\n",
    "\n",
    "\n",
    "# a = 'ooyyy'\n",
    "# a.count('y')\n",
    "\n",
    "# b = 'ox o x oxoxox '\n",
    "# b.count('ox')\n",
    "\n",
    "\n",
    " \n",
    "\n",
    "\n",
    "a = [1,1,1,2,3]\n",
    "a.count(1)\n",
    "\n"
   ]
  },
  {
   "cell_type": "code",
   "execution_count": 76,
   "metadata": {},
   "outputs": [
    {
     "name": "stdout",
     "output_type": "stream",
     "text": [
      "원영 원영 은비 은비 은비 은비 채연 채연\n",
      "은비(이)가 총 4표로 반장이 되었습니다.\n"
     ]
    }
   ],
   "source": [
    "a = input().split()\n",
    "b = list(set(a))\n",
    "\n",
    "max = 0\n",
    "\n",
    "for i in range(len(b)):\n",
    "    if a.count(b[i]) > a.count(b[max]):\n",
    "        max = i\n",
    "\n",
    "print(\"%s(이)가 총 %d표로 반장이 되었습니다.\"% (b[max], a.count(b[max])))\n",
    "\n"
   ]
  },
  {
   "cell_type": "code",
   "execution_count": 78,
   "metadata": {},
   "outputs": [
    {
     "name": "stdout",
     "output_type": "stream",
     "text": [
      "qqqqqqqqqqqqqqqqqqqqqqqqqqffffffff\n",
      "eeeeeeeeeeeeeeeeeeeeeeeeeeffffffff\n"
     ]
    }
   ],
   "source": [
    "#39 오타수정하기\n",
    "\n",
    "\n",
    "a = input()\n",
    "print(a.replace('q','e'))\n",
    "     "
   ]
  },
  {
   "cell_type": "code",
   "execution_count": 81,
   "metadata": {},
   "outputs": [
    {
     "name": "stdout",
     "output_type": "stream",
     "text": [
      "2\n",
      "YES\n"
     ]
    }
   ],
   "source": [
    "##########################################################\n",
    "# 소수판별 (외우자) 별 다섯개!! 아주 중요하다, 담주 시험 !!!\n",
    "#######################################################\n",
    "\n",
    "\n",
    "\n",
    "\n",
    "\n",
    "a = int(input())  #숫자를 입력 받는다.\n",
    "\n",
    "re = 0  # re 변수 초기화\n",
    "\n",
    "for i in range(1,a+1):   #반복문(그 수까지)\n",
    "    if a % i ==0 : # 조건 입력받은 수를 그 수 앞에 모든 수로 나눈 나머지 값이 0이면\n",
    "        re += 1  #re 값을 하나씩 증가\n",
    "\n",
    "if re == 2:   #re 값이 2이면\n",
    "    print('YES') #소수\n",
    "else:\n",
    "    print('NO')\n"
   ]
  },
  {
   "cell_type": "code",
   "execution_count": 82,
   "metadata": {},
   "outputs": [
    {
     "name": "stdout",
     "output_type": "stream",
     "text": [
      "2356\n",
      "16\n"
     ]
    }
   ],
   "source": [
    "# 각 자리수의 합\n",
    "\n",
    "n = list(map(int,input()))  #숫자로 입력받기\n",
    "sum = 0\n",
    "for i in n :   #반복문 : 입력 받은 숫자를 하나씩\n",
    "    sum += i   #누적합계 구하기\n",
    "    \n",
    "print(sum)  #합계출력\n",
    "\n",
    "\n"
   ]
  },
  {
   "cell_type": "code",
   "execution_count": 87,
   "metadata": {},
   "outputs": [
    {
     "name": "stdout",
     "output_type": "stream",
     "text": [
      "210\n"
     ]
    }
   ],
   "source": [
    "sum = 0\n",
    "for i in range (1,21) :\n",
    "    sum += i\n",
    "print(sum)"
   ]
  },
  {
   "cell_type": "code",
   "execution_count": 91,
   "metadata": {},
   "outputs": [
    {
     "name": "stdout",
     "output_type": "stream",
     "text": [
      "102\n"
     ]
    }
   ],
   "source": [
    "# 46 str 자료형의 응용\n",
    "\n",
    "sum = 0\n",
    "for i in list(range(21)):\n",
    "    for j in str(i):\n",
    "        sum += int(j)\n",
    "    \n",
    "print(sum)"
   ]
  },
  {
   "cell_type": "code",
   "execution_count": null,
   "metadata": {},
   "outputs": [],
   "source": []
  }
 ],
 "metadata": {
  "kernelspec": {
   "display_name": "Python 3",
   "language": "python",
   "name": "python3"
  },
  "language_info": {
   "codemirror_mode": {
    "name": "ipython",
    "version": 3
   },
   "file_extension": ".py",
   "mimetype": "text/x-python",
   "name": "python",
   "nbconvert_exporter": "python",
   "pygments_lexer": "ipython3",
   "version": "3.8.5"
  }
 },
 "nbformat": 4,
 "nbformat_minor": 4
}
