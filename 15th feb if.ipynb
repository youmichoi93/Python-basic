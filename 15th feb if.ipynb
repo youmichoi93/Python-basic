{
 "cells": [
  {
   "cell_type": "code",
   "execution_count": 1,
   "metadata": {},
   "outputs": [],
   "source": [
    "money = True"
   ]
  },
  {
   "cell_type": "code",
   "execution_count": 7,
   "metadata": {},
   "outputs": [
    {
     "name": "stdout",
     "output_type": "stream",
     "text": [
      "택시를 타고 가라\n"
     ]
    }
   ],
   "source": [
    "if money :\n",
    "    print('택시를 타고 가라')\n",
    "else :\n",
    "    print('걸어가라')"
   ]
  },
  {
   "cell_type": "code",
   "execution_count": 8,
   "metadata": {},
   "outputs": [],
   "source": [
    "##########if#################"
   ]
  },
  {
   "cell_type": "code",
   "execution_count": 9,
   "metadata": {},
   "outputs": [
    {
     "ename": "IndentationError",
     "evalue": "unexpected indent (<ipython-input-9-0588105bccae>, line 5)",
     "output_type": "error",
     "traceback": [
      "\u001b[1;36m  File \u001b[1;32m\"<ipython-input-9-0588105bccae>\"\u001b[1;36m, line \u001b[1;32m5\u001b[0m\n\u001b[1;33m    print('가라')\u001b[0m\n\u001b[1;37m    ^\u001b[0m\n\u001b[1;31mIndentationError\u001b[0m\u001b[1;31m:\u001b[0m unexpected indent\n"
     ]
    }
   ],
   "source": [
    "if money :               #파이썬 들여쓰기 주의, 줄 잘 맞추어야함.#탭으로 보다는 스페이쓰 네번으로 공백 (통일)\n",
    "    print(\"택시를\")\n",
    "else : \n",
    "    print ('타고')\n",
    "      print('가라')"
   ]
  },
  {
   "cell_type": "code",
   "execution_count": 10,
   "metadata": {},
   "outputs": [
    {
     "data": {
      "text/plain": [
       "True"
      ]
     },
     "execution_count": 10,
     "metadata": {},
     "output_type": "execute_result"
    }
   ],
   "source": [
    "5 == 5"
   ]
  },
  {
   "cell_type": "code",
   "execution_count": 11,
   "metadata": {},
   "outputs": [
    {
     "data": {
      "text/plain": [
       "False"
      ]
     },
     "execution_count": 11,
     "metadata": {},
     "output_type": "execute_result"
    }
   ],
   "source": [
    "5 != 5  #!=아니다"
   ]
  },
  {
   "cell_type": "code",
   "execution_count": 19,
   "metadata": {},
   "outputs": [
    {
     "name": "stdout",
     "output_type": "stream",
     "text": [
      "택시타자\n"
     ]
    }
   ],
   "source": [
    "money = 5000\n",
    "card = True               # or 하나만 만족하면 트루, and는 모두 참, not은 둘다 x\n",
    "\n",
    "if money >=3000 and card : \n",
    "    print ('택시타자')\n",
    "else :\n",
    "    print ('걸어가자')\n"
   ]
  },
  {
   "cell_type": "code",
   "execution_count": 29,
   "metadata": {},
   "outputs": [
    {
     "ename": "IndentationError",
     "evalue": "unexpected indent (<ipython-input-29-b4199eb0e9aa>, line 13)",
     "output_type": "error",
     "traceback": [
      "\u001b[1;36m  File \u001b[1;32m\"<ipython-input-29-b4199eb0e9aa>\"\u001b[1;36m, line \u001b[1;32m13\u001b[0m\n\u001b[1;33m    if 'money' in pocket : pass\u001b[0m\n\u001b[1;37m    ^\u001b[0m\n\u001b[1;31mIndentationError\u001b[0m\u001b[1;31m:\u001b[0m unexpected indent\n"
     ]
    }
   ],
   "source": [
    "pocket = ['paper','handphone']    #elif else밑에 또 if 해서 카드 조건 쓰는 0것보단 elif갯수 제한 없이 처음서 부터 내려옴\n",
    "card = True\n",
    "\n",
    "# if 'money' in pocket:\n",
    "#     print('택시타자')\n",
    "# elif card:\n",
    "#     print('택시타자')\n",
    "# else:\n",
    "#     print('걸어가라')\n",
    "\n",
    "# 한번에 여러개 주석할때 left ctrl + / \n",
    "    \n",
    "    if 'money' in pocket : pass\n",
    "    else:print('카드를 써라')\n",
    "    "
   ]
  },
  {
   "cell_type": "code",
   "execution_count": 37,
   "metadata": {},
   "outputs": [],
   "source": [
    "score = 50 \n",
    "if score >= 60:\n",
    "    message= \"pass\"\n",
    "else:\n",
    "    message= \"failure\"\n",
    "    \n",
    "    \n",
    "    \n",
    "    #?? 결과값 왜 안 나옴\n"
   ]
  },
  {
   "cell_type": "code",
   "execution_count": null,
   "metadata": {},
   "outputs": [],
   "source": [
    "#############\n",
    "# while\n",
    "############"
   ]
  },
  {
   "cell_type": "code",
   "execution_count": null,
   "metadata": {},
   "outputs": [],
   "source": [
    "treeHit = 0             #아주 중요 +1 엄청 자주 씀.\n",
    "while treeHit < 10:\n",
    "    treeHit =  treeHit + 1\n",
    "    print('나무를 %d번 찍었습니다.' % treeHit)\n",
    "    if treeHit == 10:\n",
    "        print('나무 넘어갑니다.')"
   ]
  },
  {
   "cell_type": "code",
   "execution_count": null,
   "metadata": {},
   "outputs": [],
   "source": [
    "prompt = \"\"\"\n",
    "1.Add\n",
    "2.Del\n",
    "3.List\n",
    "4.Quit\n",
    "...\n",
    "Enter number:\"\"\"\n",
    "\n",
    "#오늘 숙제 : 인풋을 거쳐서 되는 애들은 무조건 스트링,따라서 숫자로 바꿔준다.\n",
    "\n",
    "\n",
    "number = 0 \n",
    "while number != 4:\n",
    "    print(prompt)\n",
    "    number = int(input())"
   ]
  },
  {
   "cell_type": "code",
   "execution_count": null,
   "metadata": {},
   "outputs": [],
   "source": [
    "#while 은 몇번 반복될지 모를때 사용, for 몇번 돌지 알때 주로 사용."
   ]
  },
  {
   "cell_type": "code",
   "execution_count": null,
   "metadata": {},
   "outputs": [],
   "source": [
    "###########"
   ]
  },
  {
   "cell_type": "code",
   "execution_count": null,
   "metadata": {},
   "outputs": [],
   "source": [
    "coffee = 10\n",
    "money = 300\n",
    "\n",
    "while money:\n",
    "    print('돈을 받았으니 커피를 준다.')\n",
    "    coffee = coffee -1\n",
    "    print('남은 커피의 양은 %d 개입니다.' %coffee)\n",
    "    if coffee = 0\n",
    "        print('판매를 중지합니다.')\n",
    "        break"
   ]
  },
  {
   "cell_type": "code",
   "execution_count": null,
   "metadata": {},
   "outputs": [],
   "source": []
  }
 ],
 "metadata": {
  "kernelspec": {
   "display_name": "Python 3",
   "language": "python",
   "name": "python3"
  },
  "language_info": {
   "codemirror_mode": {
    "name": "ipython",
    "version": 3
   },
   "file_extension": ".py",
   "mimetype": "text/x-python",
   "name": "python",
   "nbconvert_exporter": "python",
   "pygments_lexer": "ipython3",
   "version": "3.8.5"
  }
 },
 "nbformat": 4,
 "nbformat_minor": 4
}
